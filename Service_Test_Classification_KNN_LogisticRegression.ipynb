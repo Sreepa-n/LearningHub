{
 "cells": [
  {
   "cell_type": "markdown",
   "metadata": {},
   "source": [
    "# <br>Perform KNN and logistic regression for the dataset ServiceTest.csv"
   ]
  },
  {
   "cell_type": "code",
   "execution_count": 1,
   "metadata": {},
   "outputs": [],
   "source": [
    "#importing the necessary packages\n",
    "import os\n",
    "os.chdir('C:/Users/sreepa/Downloads')\n",
    "# Pandas - to work with dataframes\n",
    "import pandas as pd\n",
    "# Numpy - to work with numerical computations\n",
    "import numpy as np\n",
    "# seaborn - package for visualization\n",
    "import seaborn as sns\n",
    "# matplotlib - package for visualization\n",
    "import matplotlib.pyplot as plt\n",
    "#Sklearn - package to split data into train & test\n",
    "from sklearn.model_selection import train_test_split\n",
    "# Sklearn - package to use logistic regression\n",
    "from sklearn.linear_model import LogisticRegression\n",
    "# Sklearn - package to standardize data => z=(xi-mu)/sigma\n",
    "from sklearn.preprocessing import StandardScaler\n",
    "# Sklearn - package to find Accuracy Score and Confusion Matrix\n",
    "from sklearn.metrics import accuracy_score,confusion_matrix\n",
    "# Sklearn - package to get the classification report(Precision,Recall,F1 score etc)\n",
    "from sklearn.metrics import classification_report\n",
    "#Sklearn - package for ploting the confusion matrix\n",
    "from sklearn.metrics import plot_confusion_matrix\n",
    "#Sklearn - package to split dataset into k folds\n",
    "from sklearn.model_selection import KFold\n",
    "#Sklearn - package to evaluate the score,prediction and validation by cross validation\n",
    "from sklearn.model_selection import cross_val_score,cross_val_predict,cross_validate"
   ]
  },
  {
   "cell_type": "code",
   "execution_count": 2,
   "metadata": {},
   "outputs": [],
   "source": [
    "# =============================================================================\n",
    "# IMPORTING DATA\n",
    "# =============================================================================\n",
    "service_data=pd.read_csv('ServiceTest.csv')"
   ]
  },
  {
   "cell_type": "markdown",
   "metadata": {},
   "source": [
    "# Exploratory data analysis:\n",
    "\n",
    "#1.Data information (types and missing value) and statistics\n",
    "#2.Data preprocessing \n",
    "#3.Data visualization"
   ]
  },
  {
   "cell_type": "code",
   "execution_count": 3,
   "metadata": {},
   "outputs": [
    {
     "name": "stdout",
     "output_type": "stream",
     "text": [
      "<class 'pandas.core.frame.DataFrame'>\n",
      "RangeIndex: 135 entries, 0 to 134\n",
      "Data columns (total 6 columns):\n",
      "OilQual        135 non-null float64\n",
      "EnginePerf     135 non-null float64\n",
      "NormMileage    135 non-null float64\n",
      "TyreWear       135 non-null float64\n",
      "HVACwear       135 non-null float64\n",
      "Service        135 non-null object\n",
      "dtypes: float64(5), object(1)\n",
      "memory usage: 6.5+ KB\n"
     ]
    }
   ],
   "source": [
    "#======to get the information of data======\n",
    "service_data.info()"
   ]
  },
  {
   "cell_type": "markdown",
   "metadata": {},
   "source": [
    "<font color=blue>#Observations:\n",
    "\n",
    "Dataset consists of 135 rows and 6 columns. There is one categorical variable 'Service' and all the other five variables are of float datatype.There are no null values in any of the columns.</font>"
   ]
  },
  {
   "cell_type": "code",
   "execution_count": 4,
   "metadata": {},
   "outputs": [
    {
     "data": {
      "text/html": [
       "<div>\n",
       "<style scoped>\n",
       "    .dataframe tbody tr th:only-of-type {\n",
       "        vertical-align: middle;\n",
       "    }\n",
       "\n",
       "    .dataframe tbody tr th {\n",
       "        vertical-align: top;\n",
       "    }\n",
       "\n",
       "    .dataframe thead th {\n",
       "        text-align: right;\n",
       "    }\n",
       "</style>\n",
       "<table border=\"1\" class=\"dataframe\">\n",
       "  <thead>\n",
       "    <tr style=\"text-align: right;\">\n",
       "      <th></th>\n",
       "      <th>OilQual</th>\n",
       "      <th>EnginePerf</th>\n",
       "      <th>NormMileage</th>\n",
       "      <th>TyreWear</th>\n",
       "      <th>HVACwear</th>\n",
       "    </tr>\n",
       "  </thead>\n",
       "  <tbody>\n",
       "    <tr>\n",
       "      <th>count</th>\n",
       "      <td>135.000000</td>\n",
       "      <td>135.000000</td>\n",
       "      <td>135.000000</td>\n",
       "      <td>135.000000</td>\n",
       "      <td>135.000000</td>\n",
       "    </tr>\n",
       "    <tr>\n",
       "      <th>mean</th>\n",
       "      <td>58.629380</td>\n",
       "      <td>59.077366</td>\n",
       "      <td>59.118254</td>\n",
       "      <td>60.863823</td>\n",
       "      <td>58.986136</td>\n",
       "    </tr>\n",
       "    <tr>\n",
       "      <th>std</th>\n",
       "      <td>38.858638</td>\n",
       "      <td>38.603943</td>\n",
       "      <td>37.461473</td>\n",
       "      <td>38.445306</td>\n",
       "      <td>40.000363</td>\n",
       "    </tr>\n",
       "    <tr>\n",
       "      <th>min</th>\n",
       "      <td>2.597185</td>\n",
       "      <td>1.891003</td>\n",
       "      <td>3.588986</td>\n",
       "      <td>6.143161</td>\n",
       "      <td>-1.719738</td>\n",
       "    </tr>\n",
       "    <tr>\n",
       "      <th>25%</th>\n",
       "      <td>26.695516</td>\n",
       "      <td>27.418265</td>\n",
       "      <td>31.259536</td>\n",
       "      <td>28.901162</td>\n",
       "      <td>31.311275</td>\n",
       "    </tr>\n",
       "    <tr>\n",
       "      <th>50%</th>\n",
       "      <td>61.023282</td>\n",
       "      <td>61.501061</td>\n",
       "      <td>59.350883</td>\n",
       "      <td>61.304031</td>\n",
       "      <td>62.620518</td>\n",
       "    </tr>\n",
       "    <tr>\n",
       "      <th>75%</th>\n",
       "      <td>104.228821</td>\n",
       "      <td>103.744032</td>\n",
       "      <td>103.051485</td>\n",
       "      <td>106.172658</td>\n",
       "      <td>105.331843</td>\n",
       "    </tr>\n",
       "    <tr>\n",
       "      <th>max</th>\n",
       "      <td>106.388821</td>\n",
       "      <td>105.744032</td>\n",
       "      <td>105.051485</td>\n",
       "      <td>108.172658</td>\n",
       "      <td>105.826843</td>\n",
       "    </tr>\n",
       "  </tbody>\n",
       "</table>\n",
       "</div>"
      ],
      "text/plain": [
       "          OilQual  EnginePerf  NormMileage    TyreWear    HVACwear\n",
       "count  135.000000  135.000000   135.000000  135.000000  135.000000\n",
       "mean    58.629380   59.077366    59.118254   60.863823   58.986136\n",
       "std     38.858638   38.603943    37.461473   38.445306   40.000363\n",
       "min      2.597185    1.891003     3.588986    6.143161   -1.719738\n",
       "25%     26.695516   27.418265    31.259536   28.901162   31.311275\n",
       "50%     61.023282   61.501061    59.350883   61.304031   62.620518\n",
       "75%    104.228821  103.744032   103.051485  106.172658  105.331843\n",
       "max    106.388821  105.744032   105.051485  108.172658  105.826843"
      ]
     },
     "execution_count": 4,
     "metadata": {},
     "output_type": "execute_result"
    }
   ],
   "source": [
    "#============to get the 5 point summary,average and count================\n",
    "service_data.describe()"
   ]
  },
  {
   "cell_type": "markdown",
   "metadata": {},
   "source": [
    "<font color=blue>#Observations:Mean and median doesnt vary much for all columns. All the variables have almost equal mean and standard deviation.</font>\n",
    "<br>1. OilQual has an average value of 58.62 with a standard deviation of 38.85.The range of values is [2.59 - 106.38].25% of the data lies below the value 26.69 and 50 % of the data lies below 61.02 and the 75% data lieas below 104.22 and rest 25% above 104.22.\n",
    "<br><br>2. EnginePerf has an average value of 59.07 with a standard deviation of 38.60.The range of values is [1.89 - 105.74].25% of the data lies below the value 27.41 and 50 % of the data lies below 61.50 and the 75% data lieas below 103.74 and rest 25% above 103.74.\n",
    "<br><br>3. NormMileage has an average value of 59.11 with a standard deviation of 37.46.The range of values is [3.58 - 105.05].25% of the data lies below the value 31.25 and 50 % of the data lies below 59.35 and the 75% data lieas below 103.05 and rest 25% above 103.05.\n",
    "<br><br>4. TyreWear has an average value of 60.86 with a standard deviation of 38.44.The range of values is [6.14 - 108.17].25% of the data lies below the value 28.90 and 50 % of the data lies below 61.30 and the 75% data lieas below 106.17 and rest 25% above 106.17.\n",
    "<br><br>5. HVACWear has an average value of 58.98 with a standard deviation of 40.00.The range of values is [-1.71 - 105.82].25% of the data lies below the value 31.31 and 50 % of the data lies below 62.62 and the 75% data lieas below 105.33 and rest 25% above 105.33."
   ]
  },
  {
   "cell_type": "code",
   "execution_count": 5,
   "metadata": {},
   "outputs": [
    {
     "data": {
      "text/html": [
       "<div>\n",
       "<style scoped>\n",
       "    .dataframe tbody tr th:only-of-type {\n",
       "        vertical-align: middle;\n",
       "    }\n",
       "\n",
       "    .dataframe tbody tr th {\n",
       "        vertical-align: top;\n",
       "    }\n",
       "\n",
       "    .dataframe thead th {\n",
       "        text-align: right;\n",
       "    }\n",
       "</style>\n",
       "<table border=\"1\" class=\"dataframe\">\n",
       "  <thead>\n",
       "    <tr style=\"text-align: right;\">\n",
       "      <th></th>\n",
       "      <th>OilQual</th>\n",
       "      <th>EnginePerf</th>\n",
       "      <th>NormMileage</th>\n",
       "      <th>TyreWear</th>\n",
       "      <th>HVACwear</th>\n",
       "      <th>Service</th>\n",
       "    </tr>\n",
       "  </thead>\n",
       "  <tbody>\n",
       "    <tr>\n",
       "      <th>0</th>\n",
       "      <td>45.773338</td>\n",
       "      <td>49.936615</td>\n",
       "      <td>49.777581</td>\n",
       "      <td>48.263851</td>\n",
       "      <td>50.952072</td>\n",
       "      <td>No</td>\n",
       "    </tr>\n",
       "    <tr>\n",
       "      <th>1</th>\n",
       "      <td>4.987185</td>\n",
       "      <td>7.891003</td>\n",
       "      <td>6.588986</td>\n",
       "      <td>9.493161</td>\n",
       "      <td>3.240262</td>\n",
       "      <td>No</td>\n",
       "    </tr>\n",
       "    <tr>\n",
       "      <th>2</th>\n",
       "      <td>4.987185</td>\n",
       "      <td>4.891003</td>\n",
       "      <td>7.308986</td>\n",
       "      <td>8.373161</td>\n",
       "      <td>2.780262</td>\n",
       "      <td>No</td>\n",
       "    </tr>\n",
       "    <tr>\n",
       "      <th>3</th>\n",
       "      <td>106.388821</td>\n",
       "      <td>104.454032</td>\n",
       "      <td>103.051485</td>\n",
       "      <td>106.282658</td>\n",
       "      <td>105.536843</td>\n",
       "      <td>No</td>\n",
       "    </tr>\n",
       "    <tr>\n",
       "      <th>4</th>\n",
       "      <td>104.388821</td>\n",
       "      <td>103.744032</td>\n",
       "      <td>103.051485</td>\n",
       "      <td>106.132658</td>\n",
       "      <td>105.776843</td>\n",
       "      <td>No</td>\n",
       "    </tr>\n",
       "  </tbody>\n",
       "</table>\n",
       "</div>"
      ],
      "text/plain": [
       "      OilQual  EnginePerf  NormMileage    TyreWear    HVACwear Service\n",
       "0   45.773338   49.936615    49.777581   48.263851   50.952072      No\n",
       "1    4.987185    7.891003     6.588986    9.493161    3.240262      No\n",
       "2    4.987185    4.891003     7.308986    8.373161    2.780262      No\n",
       "3  106.388821  104.454032   103.051485  106.282658  105.536843      No\n",
       "4  104.388821  103.744032   103.051485  106.132658  105.776843      No"
      ]
     },
     "execution_count": 5,
     "metadata": {},
     "output_type": "execute_result"
    }
   ],
   "source": [
    "service_data.head()"
   ]
  },
  {
   "cell_type": "code",
   "execution_count": 6,
   "metadata": {},
   "outputs": [
    {
     "data": {
      "text/plain": [
       "OilQual        0\n",
       "EnginePerf     0\n",
       "NormMileage    0\n",
       "TyreWear       0\n",
       "HVACwear       0\n",
       "Service        0\n",
       "dtype: int64"
      ]
     },
     "execution_count": 6,
     "metadata": {},
     "output_type": "execute_result"
    }
   ],
   "source": [
    "#to find the null values or missing values\n",
    "service_data.isnull().sum()"
   ]
  },
  {
   "cell_type": "markdown",
   "metadata": {},
   "source": [
    "<font color= blue>#Observation\n",
    "There are no null or missing values</font>"
   ]
  },
  {
   "cell_type": "code",
   "execution_count": 7,
   "metadata": {},
   "outputs": [
    {
     "data": {
      "text/plain": [
       "0"
      ]
     },
     "execution_count": 7,
     "metadata": {},
     "output_type": "execute_result"
    }
   ],
   "source": [
    "#to find the duplicate values\n",
    "service_data.duplicated().sum()"
   ]
  },
  {
   "cell_type": "markdown",
   "metadata": {},
   "source": [
    "<font color=blue>#There is no duplicated rows </font>"
   ]
  },
  {
   "cell_type": "code",
   "execution_count": 8,
   "metadata": {},
   "outputs": [
    {
     "data": {
      "text/html": [
       "<div>\n",
       "<style scoped>\n",
       "    .dataframe tbody tr th:only-of-type {\n",
       "        vertical-align: middle;\n",
       "    }\n",
       "\n",
       "    .dataframe tbody tr th {\n",
       "        vertical-align: top;\n",
       "    }\n",
       "\n",
       "    .dataframe thead th {\n",
       "        text-align: right;\n",
       "    }\n",
       "</style>\n",
       "<table border=\"1\" class=\"dataframe\">\n",
       "  <thead>\n",
       "    <tr style=\"text-align: right;\">\n",
       "      <th>Service</th>\n",
       "      <th>No</th>\n",
       "      <th>Yes</th>\n",
       "    </tr>\n",
       "    <tr>\n",
       "      <th>Service</th>\n",
       "      <th></th>\n",
       "      <th></th>\n",
       "    </tr>\n",
       "  </thead>\n",
       "  <tbody>\n",
       "    <tr>\n",
       "      <th>No</th>\n",
       "      <td>0.733333</td>\n",
       "      <td>0.000000</td>\n",
       "    </tr>\n",
       "    <tr>\n",
       "      <th>Yes</th>\n",
       "      <td>0.000000</td>\n",
       "      <td>0.266667</td>\n",
       "    </tr>\n",
       "  </tbody>\n",
       "</table>\n",
       "</div>"
      ],
      "text/plain": [
       "Service        No       Yes\n",
       "Service                    \n",
       "No       0.733333  0.000000\n",
       "Yes      0.000000  0.266667"
      ]
     },
     "execution_count": 8,
     "metadata": {},
     "output_type": "execute_result"
    }
   ],
   "source": [
    "#to check whether the data is balanced\n",
    "pd.crosstab(index=service_data['Service'],columns=service_data['Service'],normalize=True)"
   ]
  },
  {
   "cell_type": "markdown",
   "metadata": {},
   "source": [
    "<font color=blue>ServiceTest dataset is an imbalanced dataset. 73 percent of cars has not done the Service and 26.6 percent cars has done the Service.\n",
    "We may need to do OverSampling or UnderSampling to make the dataset balanced</font>"
   ]
  },
  {
   "cell_type": "code",
   "execution_count": 9,
   "metadata": {},
   "outputs": [
    {
     "data": {
      "text/plain": [
       "<matplotlib.axes._subplots.AxesSubplot at 0x2369d09eb08>"
      ]
     },
     "execution_count": 9,
     "metadata": {},
     "output_type": "execute_result"
    },
    {
     "data": {
      "image/png": "[encoded data removed]",
      "text/plain": [
       "<Figure size 432x288 with 1 Axes>"
      ]
     },
     "metadata": {
      "needs_background": "light"
     },
     "output_type": "display_data"
    }
   ],
   "source": [
    "pd.crosstab(service_data['Service'], service_data.Service).plot(kind='bar')"
   ]
  },
  {
   "cell_type": "code",
   "execution_count": 10,
   "metadata": {},
   "outputs": [
    {
     "data": {
      "image/png": "[encoded data removed]",
      "text/plain": [
       "<Figure size 432x288 with 1 Axes>"
      ]
     },
     "metadata": {
      "needs_background": "light"
     },
     "output_type": "display_data"
    },
    {
     "data": {
      "image/png": "[encoded data removed]",
      "text/plain": [
       "<Figure size 432x288 with 1 Axes>"
      ]
     },
     "metadata": {
      "needs_background": "light"
     },
     "output_type": "display_data"
    },
    {
     "data": {
      "image/png": "[encoded data removed]",
      "text/plain": [
       "<Figure size 432x288 with 1 Axes>"
      ]
     },
     "metadata": {
      "needs_background": "light"
     },
     "output_type": "display_data"
    },
    {
     "data": {
      "image/png": "[encoded data removed]",
      "text/plain": [
       "<Figure size 432x288 with 1 Axes>"
      ]
     },
     "metadata": {
      "needs_background": "light"
     },
     "output_type": "display_data"
    },
    {
     "data": {
      "image/png": "[encoded data removed]",
      "text/plain": [
       "<Figure size 432x288 with 1 Axes>"
      ]
     },
     "metadata": {
      "needs_background": "light"
     },
     "output_type": "display_data"
    }
   ],
   "source": [
    "#Boxplot: to check whether there is any outlier\n",
    "num_col=[n for n in service_data.columns if service_data[n].dtypes!='object']\n",
    "for col in num_col:\n",
    "    plt.boxplot(service_data[col])\n",
    "    plt.title(col)\n",
    "    plt.show()"
   ]
  },
  {
   "cell_type": "markdown",
   "metadata": {},
   "source": [
    "<font color=blue># No outliers in this dataset </font>"
   ]
  },
  {
   "cell_type": "code",
   "execution_count": 11,
   "metadata": {},
   "outputs": [
    {
     "data": {
      "text/plain": [
       "<matplotlib.axes._subplots.AxesSubplot at 0x2369f39f8c8>"
      ]
     },
     "execution_count": 11,
     "metadata": {},
     "output_type": "execute_result"
    },
    {
     "data": {
      "image/png": "[encoded data removed]",
      "text/plain": [
       "<Figure size 432x288 with 1 Axes>"
      ]
     },
     "metadata": {
      "needs_background": "light"
     },
     "output_type": "display_data"
    }
   ],
   "source": [
    "sns.boxplot(x='Service',y='HVACwear',data=service_data)"
   ]
  },
  {
   "cell_type": "code",
   "execution_count": 12,
   "metadata": {},
   "outputs": [
    {
     "data": {
      "text/plain": [
       "<matplotlib.axes._subplots.AxesSubplot at 0x2369f2c60c8>"
      ]
     },
     "execution_count": 12,
     "metadata": {},
     "output_type": "execute_result"
    },
    {
     "data": {
      "image/png": "[encoded data removed]",
      "text/plain": [
       "<Figure size 432x288 with 1 Axes>"
      ]
     },
     "metadata": {
      "needs_background": "light"
     },
     "output_type": "display_data"
    }
   ],
   "source": [
    "sns.boxplot(x='Service',y='TyreWear',data=service_data)"
   ]
  },
  {
   "cell_type": "code",
   "execution_count": 13,
   "metadata": {},
   "outputs": [
    {
     "data": {
      "text/plain": [
       "<matplotlib.axes._subplots.AxesSubplot at 0x2369f17f908>"
      ]
     },
     "execution_count": 13,
     "metadata": {},
     "output_type": "execute_result"
    },
    {
     "data": {
      "image/png": "[encoded data removed]",
      "text/plain": [
       "<Figure size 432x288 with 1 Axes>"
      ]
     },
     "metadata": {
      "needs_background": "light"
     },
     "output_type": "display_data"
    }
   ],
   "source": [
    "sns.boxplot(x='Service',y='NormMileage',data=service_data)"
   ]
  },
  {
   "cell_type": "code",
   "execution_count": 14,
   "metadata": {},
   "outputs": [
    {
     "data": {
      "text/plain": [
       "<matplotlib.axes._subplots.AxesSubplot at 0x2369f382a88>"
      ]
     },
     "execution_count": 14,
     "metadata": {},
     "output_type": "execute_result"
    },
    {
     "data": {
      "image/png": "[encoded data removed]",
      "text/plain": [
       "<Figure size 432x288 with 1 Axes>"
      ]
     },
     "metadata": {
      "needs_background": "light"
     },
     "output_type": "display_data"
    }
   ],
   "source": [
    "sns.boxplot(x='Service',y='EnginePerf',data=service_data)"
   ]
  },
  {
   "cell_type": "code",
   "execution_count": 15,
   "metadata": {},
   "outputs": [
    {
     "data": {
      "text/plain": [
       "<matplotlib.axes._subplots.AxesSubplot at 0x2369f23cb08>"
      ]
     },
     "execution_count": 15,
     "metadata": {},
     "output_type": "execute_result"
    },
    {
     "data": {
      "image/png": "[encoded data removed]",
      "text/plain": [
       "<Figure size 432x288 with 1 Axes>"
      ]
     },
     "metadata": {
      "needs_background": "light"
     },
     "output_type": "display_data"
    }
   ],
   "source": [
    "sns.boxplot(x='Service',y='OilQual',data=service_data)"
   ]
  },
  {
   "cell_type": "code",
   "execution_count": 16,
   "metadata": {},
   "outputs": [
    {
     "data": {
      "text/plain": [
       "<seaborn.axisgrid.PairGrid at 0x2369f416548>"
      ]
     },
     "execution_count": 16,
     "metadata": {},
     "output_type": "execute_result"
    },
    {
     "data": {
      "image/png": "[encoded data removed]",
      "text/plain": [
       "<Figure size 953.359x900 with 30 Axes>"
      ]
     },
     "metadata": {
      "needs_background": "light"
     },
     "output_type": "display_data"
    }
   ],
   "source": [
    "sns.pairplot(service_data,hue='Service') \n"
   ]
  },
  {
   "cell_type": "markdown",
   "metadata": {},
   "source": [
    "#<font color = green>Plot clearly says that the predictor variables are highly positively corelated. <br>\n",
    "Cars which has done the Service has 'OilQual', 'EnginePerf', 'NormMileage', 'TyreWear', 'HVACwear' values between 20 to 40 and 50 to 70.<br> When the 'OilQual', 'EnginePerf', 'NormMileage', 'TyreWear', 'HVACwear' values are high or too low then the 'Service' is not done.</font>"
   ]
  },
  {
   "cell_type": "code",
   "execution_count": 17,
   "metadata": {},
   "outputs": [],
   "source": [
    "#Label Encoding : Cars which has done Service as 0 and which has not done Service as 1\n",
    "service_data['Service']=service_data['Service'].map({'Yes':0,'No':1})"
   ]
  },
  {
   "cell_type": "code",
   "execution_count": 18,
   "metadata": {},
   "outputs": [
    {
     "data": {
      "text/plain": [
       "0      1\n",
       "1      1\n",
       "2      1\n",
       "3      1\n",
       "4      1\n",
       "      ..\n",
       "130    1\n",
       "131    1\n",
       "132    0\n",
       "133    1\n",
       "134    1\n",
       "Name: Service, Length: 135, dtype: int64"
      ]
     },
     "execution_count": 18,
     "metadata": {},
     "output_type": "execute_result"
    }
   ],
   "source": [
    "service_data['Service']"
   ]
  },
  {
   "cell_type": "code",
   "execution_count": 19,
   "metadata": {},
   "outputs": [
    {
     "name": "stdout",
     "output_type": "stream",
     "text": [
      "              OilQual  EnginePerf  NormMileage  TyreWear  HVACwear   Service\n",
      "OilQual      1.000000    0.998319     0.997806  0.999025  0.997562  0.139987\n",
      "EnginePerf   0.998319    1.000000     0.998801  0.998289  0.998555  0.140411\n",
      "NormMileage  0.997806    0.998801     1.000000  0.998180  0.998794  0.149342\n",
      "TyreWear     0.999025    0.998289     0.998180  1.000000  0.997291  0.156695\n",
      "HVACwear     0.997562    0.998555     0.998794  0.997291  1.000000  0.113908\n",
      "Service      0.139987    0.140411     0.149342  0.156695  0.113908  1.000000\n",
      "             OilQual  EnginePerf  NormMileage  TyreWear  HVACwear  Service\n",
      "OilQual         1.00        1.00         1.00      1.00      1.00     0.14\n",
      "EnginePerf      1.00        1.00         1.00      1.00      1.00     0.14\n",
      "NormMileage     1.00        1.00         1.00      1.00      1.00     0.15\n",
      "TyreWear        1.00        1.00         1.00      1.00      1.00     0.16\n",
      "HVACwear        1.00        1.00         1.00      1.00      1.00     0.11\n",
      "Service         0.14        0.14         0.15      0.16      0.11     1.00\n"
     ]
    }
   ],
   "source": [
    "#to find the corelation\n",
    "corr = service_data.corr()\n",
    "print(corr)\n",
    "print(round(corr,2))"
   ]
  },
  {
   "cell_type": "markdown",
   "metadata": {},
   "source": [
    "<font color =blue> #There is high positive corelation between all the predictor variables.\n",
    "The dependent variable Service has weak corelation with all the other predictor variables.</font>"
   ]
  },
  {
   "cell_type": "code",
   "execution_count": 20,
   "metadata": {},
   "outputs": [
    {
     "name": "stdout",
     "output_type": "stream",
     "text": [
      "       feature          VIF\n",
      "0  NormMileage  1952.837485\n",
      "1     HVACwear  1245.953257\n",
      "2      OilQual  1871.133491\n",
      "3     TyreWear  2142.231267\n",
      "4   EnginePerf  2175.801560\n"
     ]
    }
   ],
   "source": [
    "from statsmodels.stats.outliers_influence import variance_inflation_factor\n",
    "\n",
    "features=list(set(service_data.columns)-set(['Service']))\n",
    "X = service_data[features]\n",
    "vif_data = pd.DataFrame()\n",
    "vif_data[\"feature\"] = X.columns\n",
    " \n",
    "# calculating VIF for each feature\n",
    "vif_data[\"VIF\"] = [variance_inflation_factor(X.values, i)\n",
    "                          for i in range(len(X.columns))]\n",
    " \n",
    "print(vif_data) \n"
   ]
  },
  {
   "cell_type": "markdown",
   "metadata": {},
   "source": [
    "<font color=blue>#Variance Inflation Factor (VIF) is very high for all the features which means there is multicolinearity in the dataset.EnginePerf has the highest VIF.</font>"
   ]
  },
  {
   "cell_type": "markdown",
   "metadata": {},
   "source": [
    "# Logistic Regression: without standardizing"
   ]
  },
  {
   "cell_type": "code",
   "execution_count": 21,
   "metadata": {},
   "outputs": [
    {
     "name": "stdout",
     "output_type": "stream",
     "text": [
      "['NormMileage', 'HVACwear', 'OilQual', 'TyreWear', 'EnginePerf']\n"
     ]
    }
   ],
   "source": [
    "#Seperating the features and target variable\n",
    "features=list(set(service_data.columns)-set(['Service']))\n",
    "y=service_data['Service'].values\n",
    "print(features)\n",
    "x=service_data[features].values"
   ]
  },
  {
   "cell_type": "code",
   "execution_count": 22,
   "metadata": {},
   "outputs": [],
   "source": [
    "#Splitting train and test data : 70 % of the data in the training dataset and the rest 30 % in testing dataset\n",
    "train_x, test_x, train_y, test_y = train_test_split(x,y,test_size=0.3,random_state=0)"
   ]
  },
  {
   "cell_type": "code",
   "execution_count": 23,
   "metadata": {},
   "outputs": [],
   "source": [
    "#Making the instance of the  model\n",
    "logistic=LogisticRegression(max_iter=1000)"
   ]
  },
  {
   "cell_type": "code",
   "execution_count": 24,
   "metadata": {},
   "outputs": [
    {
     "data": {
      "text/plain": [
       "LogisticRegression(max_iter=1000)"
      ]
     },
     "execution_count": 24,
     "metadata": {},
     "output_type": "execute_result"
    }
   ],
   "source": [
    "#Fitting the values for x and y\n",
    "logistic.fit(train_x,train_y)"
   ]
  },
  {
   "cell_type": "code",
   "execution_count": 25,
   "metadata": {},
   "outputs": [
    {
     "data": {
      "text/plain": [
       "array([[ 1.49812231, -1.88658456, -0.20433196,  0.49423336,  0.21274505]])"
      ]
     },
     "execution_count": 25,
     "metadata": {},
     "output_type": "execute_result"
    }
   ],
   "source": [
    "logistic.coef_"
   ]
  },
  {
   "cell_type": "code",
   "execution_count": 26,
   "metadata": {},
   "outputs": [
    {
     "data": {
      "text/plain": [
       "array([-5.35284225])"
      ]
     },
     "execution_count": 26,
     "metadata": {},
     "output_type": "execute_result"
    }
   ],
   "source": [
    "logistic.intercept_"
   ]
  },
  {
   "cell_type": "code",
   "execution_count": 27,
   "metadata": {},
   "outputs": [
    {
     "name": "stdout",
     "output_type": "stream",
     "text": [
      "[1 1 1 1 1 0 0 1 0 0 0 1 1 1 0 1 1 1 1 0 0 1 1 1 1 1 0 1 0 1 1 0 1 1 1 1 1\n",
      " 1 1 1 1]\n"
     ]
    }
   ],
   "source": [
    "#Prediction from test data\n",
    "prediction=logistic.predict(test_x)\n",
    "print(prediction)"
   ]
  },
  {
   "cell_type": "code",
   "execution_count": 28,
   "metadata": {},
   "outputs": [
    {
     "name": "stdout",
     "output_type": "stream",
     "text": [
      "[[10  3]\n",
      " [ 1 27]]\n"
     ]
    },
    {
     "data": {
      "text/plain": [
       "<sklearn.metrics._plot.confusion_matrix.ConfusionMatrixDisplay at 0x236a05c7148>"
      ]
     },
     "execution_count": 28,
     "metadata": {},
     "output_type": "execute_result"
    },
    {
     "data": {
      "image/png": "[encoded data removed]",
      "text/plain": [
       "<Figure size 432x288 with 2 Axes>"
      ]
     },
     "metadata": {
      "needs_background": "light"
     },
     "output_type": "display_data"
    }
   ],
   "source": [
    "#Confusion matrix\n",
    "conf_matrix = confusion_matrix(test_y, prediction)\n",
    "print(conf_matrix)\n",
    "plot_confusion_matrix(logistic, test_x, test_y)"
   ]
  },
  {
   "cell_type": "markdown",
   "metadata": {},
   "source": [
    "<font color=blue>#10 samples has been correctly predicted as Service done. 3 samples of car which has not done the Service has been incorrectly predicted as Service done. 27 samples are correctly predicted in the other class which haven't done the Service. 1 sample is incorrectly predicted as 'Service not done' which actually has done the Service'.The total number of misclassified samples are 4</font> "
   ]
  },
  {
   "cell_type": "code",
   "execution_count": 29,
   "metadata": {},
   "outputs": [
    {
     "name": "stdout",
     "output_type": "stream",
     "text": [
      "0.9024390243902439\n"
     ]
    }
   ],
   "source": [
    "#Accuracy Score\n",
    "acc_score=accuracy_score(test_y, prediction)\n",
    "print(acc_score)"
   ]
  },
  {
   "cell_type": "code",
   "execution_count": 30,
   "metadata": {},
   "outputs": [
    {
     "name": "stdout",
     "output_type": "stream",
     "text": [
      "Misclassified samples: 4\n"
     ]
    }
   ],
   "source": [
    "print('Misclassified samples: %d' % (test_y!=prediction).sum())"
   ]
  },
  {
   "cell_type": "code",
   "execution_count": 31,
   "metadata": {
    "scrolled": true
   },
   "outputs": [
    {
     "name": "stdout",
     "output_type": "stream",
     "text": [
      "              precision    recall  f1-score   support\n",
      "\n",
      "           0       0.91      0.77      0.83        13\n",
      "           1       0.90      0.96      0.93        28\n",
      "\n",
      "    accuracy                           0.90        41\n",
      "   macro avg       0.90      0.87      0.88        41\n",
      "weighted avg       0.90      0.90      0.90        41\n",
      "\n"
     ]
    }
   ],
   "source": [
    "report = classification_report(test_y, prediction)\n",
    "print(report)"
   ]
  },
  {
   "cell_type": "markdown",
   "metadata": {},
   "source": [
    "# Observations:\n",
    "Accuracy after doing Logistic Regression is 90 % . Precision for the cars which have done Service is 91 % (Out of the predicted class 'Service done' 91% is predicted correctly)and which havent done the Service is 90% (Out of the predicted Class 'Service not Done' 90% of the values are predicted correctly). Recall for the cars which have done the Service is 77%(Out of all the cars which have done the Service only 77% of the samples have been predicted correctly) and which have not done Service is 96% (Out of all the cars which have not done service 96% predictions are correct).\n",
    "There are four observations classified incorrectly. One of them is a false negative, while the other 3 are false positive."
   ]
  },
  {
   "cell_type": "markdown",
   "metadata": {},
   "source": [
    "# KNN Classifier: without standardising"
   ]
  },
  {
   "cell_type": "code",
   "execution_count": 32,
   "metadata": {},
   "outputs": [
    {
     "name": "stdout",
     "output_type": "stream",
     "text": [
      "[0, 0, 0, 0, 0, 0, 0, 0, 0, 0, 0, 0, 0, 0, 0, 0, 5, 5, 5]\n"
     ]
    },
    {
     "data": {
      "image/png": "[encoded data removed]",
      "text/plain": [
       "<Figure size 504x504 with 1 Axes>"
      ]
     },
     "metadata": {
      "needs_background": "light"
     },
     "output_type": "display_data"
    },
    {
     "name": "stdout",
     "output_type": "stream",
     "text": [
      "0.9024390243902439\n"
     ]
    }
   ],
   "source": [
    "from sklearn.neighbors import KNeighborsClassifier\n",
    "\n",
    "Misclassified_sample = []\n",
    "# Calculating error for K values between 1 and 40\n",
    "for i in range(1, 20):\n",
    "    knn = KNeighborsClassifier(n_neighbors=i)\n",
    "    knn.fit(train_x, train_y)\n",
    "    pred_i=knn.predict(test_x)\n",
    "    Misclassified_sample.append((test_y != pred_i).sum())\n",
    "    \n",
    "    \n",
    "print(Misclassified_sample)\n",
    "\n",
    "#Plotting the effect of K\n",
    "plt.figure(figsize = (7,7))\n",
    "plt.plot(range(1,20,1),Misclassified_sample,\n",
    "         color='red',linestyle='dashed' , marker='o',\n",
    "         markerfacecolor='blue' , markersize=10)\n",
    "\n",
    "plt.title('Effect of K value on Misclassification')\n",
    "plt.xlabel('K value')\n",
    "plt.ylabel('Misclassified samples')\n",
    "plt.show()\n",
    "\n",
    "acc_score=accuracy_score(test_y, prediction)\n",
    "print(acc_score)"
   ]
  },
  {
   "cell_type": "markdown",
   "metadata": {},
   "source": [
    "# Observations:\n",
    "Accuracy by doing KNN Classifier is 100 percent for values of k from 1 to 16.\n",
    "\n",
    "<b>KNN performs better than the Logistic Regression for this dataset."
   ]
  },
  {
   "cell_type": "markdown",
   "metadata": {},
   "source": [
    "# CrossValidation for Logistic Regression"
   ]
  },
  {
   "cell_type": "code",
   "execution_count": 33,
   "metadata": {},
   "outputs": [],
   "source": [
    "def evaluate(yt,yp):\n",
    "    cf=confusion_matrix(yt,yp)\n",
    "    acc=accuracy_score(yt,yp)\n",
    "    return cf,acc\n",
    "# Display metrics\n",
    "def display(yt,yp,model):\n",
    "    cf,acc = evaluate(yt,yp)\n",
    "    print('Model=',model,'\\ncf=',cf,'\\nacc=',acc,'\\n')"
   ]
  },
  {
   "cell_type": "code",
   "execution_count": 34,
   "metadata": {},
   "outputs": [],
   "source": [
    "logistic = LogisticRegression() # Creating a logistic instance\n",
    "logistic.fit(train_x,train_y) # Fit logistic model over train sets\n",
    "n_folds=5 # Use 5 folds for cross validation\n",
    "scores= cross_val_score(logistic,train_x,train_y,cv=n_folds,scoring='accuracy') # Function to estimate the scores for each fold\n",
    "scores_cv = cross_validate(logistic,train_x,train_y,cv=n_folds,scoring='accuracy',return_estimator=True,return_train_score=True) # Function to store the models built for each fold\n",
    "y_cv_pred_logistic=cross_val_predict(logistic,train_x,train_y,cv=n_folds) # Predicts the class for test samples using the estimator obtained with best cv score \n"
   ]
  },
  {
   "cell_type": "code",
   "execution_count": 35,
   "metadata": {},
   "outputs": [
    {
     "data": {
      "text/plain": [
       "array([0.94736842, 0.94736842, 0.89473684, 0.94736842, 0.94444444])"
      ]
     },
     "execution_count": 35,
     "metadata": {},
     "output_type": "execute_result"
    }
   ],
   "source": [
    "scores"
   ]
  },
  {
   "cell_type": "code",
   "execution_count": 36,
   "metadata": {},
   "outputs": [],
   "source": [
    "# scores\n",
    "scores_cv['estimator'][1].predict(test_x)\n",
    "# predict and display evaluation metrics for test dataset\n",
    "y_test_pred_logistic=logistic.predict(test_x)"
   ]
  },
  {
   "cell_type": "code",
   "execution_count": 37,
   "metadata": {},
   "outputs": [
    {
     "name": "stdout",
     "output_type": "stream",
     "text": [
      "Model= Logistic: Validation \n",
      "cf= [[19  4]\n",
      " [ 2 69]] \n",
      "acc= 0.9361702127659575 \n",
      "\n"
     ]
    }
   ],
   "source": [
    "display(train_y,y_cv_pred_logistic,'Logistic: Validation')"
   ]
  },
  {
   "cell_type": "code",
   "execution_count": 38,
   "metadata": {},
   "outputs": [
    {
     "name": "stdout",
     "output_type": "stream",
     "text": [
      "Model= Logistic: Testing \n",
      "cf= [[10  3]\n",
      " [ 1 27]] \n",
      "acc= 0.9024390243902439 \n",
      "\n"
     ]
    }
   ],
   "source": [
    "display(test_y,y_test_pred_logistic,'Logistic: Testing')"
   ]
  },
  {
   "cell_type": "code",
   "execution_count": 39,
   "metadata": {},
   "outputs": [
    {
     "data": {
      "text/plain": [
       "<sklearn.metrics._plot.confusion_matrix.ConfusionMatrixDisplay at 0x236a0599908>"
      ]
     },
     "execution_count": 39,
     "metadata": {},
     "output_type": "execute_result"
    },
    {
     "data": {
      "image/png": "[encoded data removed]",
      "text/plain": [
       "<Figure size 432x288 with 2 Axes>"
      ]
     },
     "metadata": {
      "needs_background": "light"
     },
     "output_type": "display_data"
    }
   ],
   "source": [
    "from sklearn.metrics import plot_confusion_matrix\n",
    "plot_confusion_matrix(logistic, test_x, test_y)"
   ]
  },
  {
   "cell_type": "markdown",
   "metadata": {},
   "source": [
    "#Accuracy after cross validation is the same which is 90%"
   ]
  },
  {
   "cell_type": "markdown",
   "metadata": {},
   "source": [
    "# Logisitc Regression After standardising and splitting the data"
   ]
  },
  {
   "cell_type": "code",
   "execution_count": 40,
   "metadata": {},
   "outputs": [
    {
     "name": "stdout",
     "output_type": "stream",
     "text": [
      "['NormMileage', 'HVACwear', 'OilQual', 'TyreWear', 'EnginePerf']\n"
     ]
    }
   ],
   "source": [
    "features=list(set(service_data.columns)-set(['Service']))\n",
    "\n",
    "y=service_data['Service'].values\n",
    "print(features)\n",
    "\n",
    "x=service_data[features].values"
   ]
  },
  {
   "cell_type": "code",
   "execution_count": 41,
   "metadata": {},
   "outputs": [],
   "source": [
    "#Standardising instance\n",
    "sc=StandardScaler()"
   ]
  },
  {
   "cell_type": "code",
   "execution_count": 42,
   "metadata": {},
   "outputs": [],
   "source": [
    "#Splitting the data into train and test data\n",
    "train_x, test_x, train_y, test_y = train_test_split(x,y,test_size=0.3,random_state=0)"
   ]
  },
  {
   "cell_type": "code",
   "execution_count": 43,
   "metadata": {},
   "outputs": [],
   "source": [
    "train_x=sc.fit_transform(train_x)\n",
    "test_x=sc.transform(test_x)"
   ]
  },
  {
   "cell_type": "code",
   "execution_count": 44,
   "metadata": {},
   "outputs": [],
   "source": [
    "#Making the instance of the  model\n",
    "logistic=LogisticRegression(max_iter=1000,solver='lbfgs')"
   ]
  },
  {
   "cell_type": "code",
   "execution_count": 45,
   "metadata": {},
   "outputs": [
    {
     "data": {
      "text/plain": [
       "array([[ 0.36767608, -1.04438104,  0.11772987,  0.76227982,  0.03380229]])"
      ]
     },
     "execution_count": 45,
     "metadata": {},
     "output_type": "execute_result"
    }
   ],
   "source": [
    "logistic.fit(train_x,train_y)\n",
    "logistic.coef_"
   ]
  },
  {
   "cell_type": "code",
   "execution_count": 46,
   "metadata": {},
   "outputs": [
    {
     "data": {
      "text/plain": [
       "array([1.14285947])"
      ]
     },
     "execution_count": 46,
     "metadata": {},
     "output_type": "execute_result"
    }
   ],
   "source": [
    "logistic.intercept_"
   ]
  },
  {
   "cell_type": "code",
   "execution_count": 47,
   "metadata": {},
   "outputs": [
    {
     "name": "stdout",
     "output_type": "stream",
     "text": [
      "[1 1 1 1 1 1 1 1 1 1 1 1 1 1 1 1 1 1 1 1 1 1 1 1 1 1 1 1 1 1 1 1 1 1 1 1 1\n",
      " 1 1 1 1]\n"
     ]
    }
   ],
   "source": [
    "prediction=logistic.predict(test_x)\n",
    "print(prediction)"
   ]
  },
  {
   "cell_type": "code",
   "execution_count": 48,
   "metadata": {},
   "outputs": [
    {
     "name": "stdout",
     "output_type": "stream",
     "text": [
      "[[ 0 13]\n",
      " [ 0 28]]\n"
     ]
    },
    {
     "data": {
      "text/plain": [
       "<sklearn.metrics._plot.confusion_matrix.ConfusionMatrixDisplay at 0x236a0394fc8>"
      ]
     },
     "execution_count": 48,
     "metadata": {},
     "output_type": "execute_result"
    },
    {
     "data": {
      "image/png": "[encoded data removed]",
      "text/plain": [
       "<Figure size 432x288 with 2 Axes>"
      ]
     },
     "metadata": {
      "needs_background": "light"
     },
     "output_type": "display_data"
    }
   ],
   "source": [
    "conf_matrix = confusion_matrix(test_y, prediction)\n",
    "print(conf_matrix)\n",
    "plot_confusion_matrix(logistic, test_x, test_y)"
   ]
  },
  {
   "cell_type": "code",
   "execution_count": 49,
   "metadata": {},
   "outputs": [
    {
     "name": "stdout",
     "output_type": "stream",
     "text": [
      "0.6829268292682927\n"
     ]
    }
   ],
   "source": [
    "acc_score=accuracy_score(test_y, prediction)\n",
    "print(acc_score)"
   ]
  },
  {
   "cell_type": "code",
   "execution_count": 50,
   "metadata": {},
   "outputs": [
    {
     "name": "stdout",
     "output_type": "stream",
     "text": [
      "Misclassified samples: 13\n"
     ]
    }
   ],
   "source": [
    "print('Misclassified samples: %d' % (test_y!=prediction).sum())"
   ]
  },
  {
   "cell_type": "code",
   "execution_count": 51,
   "metadata": {},
   "outputs": [
    {
     "name": "stdout",
     "output_type": "stream",
     "text": [
      "              precision    recall  f1-score   support\n",
      "\n",
      "           0       0.00      0.00      0.00        13\n",
      "           1       0.68      1.00      0.81        28\n",
      "\n",
      "    accuracy                           0.68        41\n",
      "   macro avg       0.34      0.50      0.41        41\n",
      "weighted avg       0.47      0.68      0.55        41\n",
      "\n"
     ]
    },
    {
     "name": "stderr",
     "output_type": "stream",
     "text": [
      "c:\\users\\sreepa\\desktop\\pyspark\\venv\\lib\\site-packages\\sklearn\\metrics\\_classification.py:1245: UndefinedMetricWarning: Precision and F-score are ill-defined and being set to 0.0 in labels with no predicted samples. Use `zero_division` parameter to control this behavior.\n",
      "  _warn_prf(average, modifier, msg_start, len(result))\n",
      "c:\\users\\sreepa\\desktop\\pyspark\\venv\\lib\\site-packages\\sklearn\\metrics\\_classification.py:1245: UndefinedMetricWarning: Precision and F-score are ill-defined and being set to 0.0 in labels with no predicted samples. Use `zero_division` parameter to control this behavior.\n",
      "  _warn_prf(average, modifier, msg_start, len(result))\n",
      "c:\\users\\sreepa\\desktop\\pyspark\\venv\\lib\\site-packages\\sklearn\\metrics\\_classification.py:1245: UndefinedMetricWarning: Precision and F-score are ill-defined and being set to 0.0 in labels with no predicted samples. Use `zero_division` parameter to control this behavior.\n",
      "  _warn_prf(average, modifier, msg_start, len(result))\n"
     ]
    }
   ],
   "source": [
    "report = classification_report(test_y, prediction)\n",
    "print(report)"
   ]
  },
  {
   "cell_type": "markdown",
   "metadata": {},
   "source": [
    "Observations:\n",
    "    #After standardising the data the accuracy has decreased to 68% . All the cars which has done the Service has been incorrectly predicted. The dataset 'ServiceTest.csv' is highly biased.That might be the reason for getting lower accuracy for Logistic Regression after standardising the dataset."
   ]
  },
  {
   "cell_type": "markdown",
   "metadata": {},
   "source": [
    "# KNN Classifier after Standardising the dataset"
   ]
  },
  {
   "cell_type": "code",
   "execution_count": 52,
   "metadata": {},
   "outputs": [
    {
     "name": "stdout",
     "output_type": "stream",
     "text": [
      "[0, 0, 0, 0, 0, 0, 0, 0, 0, 0, 0, 0, 0, 0, 0, 0, 5, 5, 5]\n"
     ]
    },
    {
     "data": {
      "image/png": "[encoded data removed]",
      "text/plain": [
       "<Figure size 504x504 with 1 Axes>"
      ]
     },
     "metadata": {
      "needs_background": "light"
     },
     "output_type": "display_data"
    }
   ],
   "source": [
    "from sklearn.neighbors import KNeighborsClassifier\n",
    "\n",
    "Misclassified_sample = []\n",
    "# Calculating error for K values between 1 and 40\n",
    "for i in range(1, 20):\n",
    "    knn = KNeighborsClassifier(n_neighbors=i)\n",
    "    knn.fit(train_x, train_y)\n",
    "    pred_i=knn.predict(test_x)\n",
    "    Misclassified_sample.append((test_y != pred_i).sum())\n",
    "    \n",
    "print(Misclassified_sample)\n",
    "\n",
    "#Plotting the effect of K\n",
    "plt.figure(figsize = (7,7))\n",
    "plt.plot(range(1,20,1),Misclassified_sample,\n",
    "         color='red',linestyle='dashed' , marker='o',\n",
    "         markerfacecolor='blue' , markersize=10)\n",
    "\n",
    "plt.title('Effect of K value on Misclassification')\n",
    "plt.xlabel('K value')\n",
    "plt.ylabel('Misclassified samples')\n",
    "plt.show()"
   ]
  },
  {
   "cell_type": "markdown",
   "metadata": {},
   "source": [
    "#<b> Observations:<b><br>\n",
    "Accuracy is 100 percent when the value of k is between 1 and 16. For greater k values there are few misclassified samples.\n",
    "\n",
    "<b>KNN performs better than Logisitc Regression for this dataset.<b>\n"
   ]
  },
  {
   "cell_type": "markdown",
   "metadata": {},
   "source": [
    "# Logistic Regression after Removing the features 'EnginePerf','TyreWear','OilQual'"
   ]
  },
  {
   "cell_type": "code",
   "execution_count": 53,
   "metadata": {},
   "outputs": [
    {
     "name": "stdout",
     "output_type": "stream",
     "text": [
      "['NormMileage', 'HVACwear']\n"
     ]
    }
   ],
   "source": [
    "features=list(set(service_data.columns)-set(['Service','EnginePerf','TyreWear','OilQual']))\n",
    "\n",
    "#features=list(['OilQual'])\n",
    "y=service_data['Service'].values\n",
    "print(features)\n",
    "\n",
    "x=service_data[features].values"
   ]
  },
  {
   "cell_type": "code",
   "execution_count": 54,
   "metadata": {},
   "outputs": [
    {
     "name": "stdout",
     "output_type": "stream",
     "text": [
      "[1 1 1 1 1 0 0 1 0 0 0 1 1 1 0 1 1 1 1 0 0 1 1 1 1 1 0 1 0 1 1 0 1 1 1 1 1\n",
      " 1 1 1 1]\n",
      "[[10  3]\n",
      " [ 1 27]]\n",
      "0.9024390243902439\n",
      "Misclassified samples: 4\n",
      "              precision    recall  f1-score   support\n",
      "\n",
      "           0       0.91      0.77      0.83        13\n",
      "           1       0.90      0.96      0.93        28\n",
      "\n",
      "    accuracy                           0.90        41\n",
      "   macro avg       0.90      0.87      0.88        41\n",
      "weighted avg       0.90      0.90      0.90        41\n",
      "\n"
     ]
    }
   ],
   "source": [
    "train_x, test_x, train_y, test_y = train_test_split(x,y,test_size=0.3,random_state=0)\n",
    "#Making the instance of the  model\n",
    "logistic=LogisticRegression(max_iter=1000)\n",
    "#Fitting the values for x and y\n",
    "logistic.fit(train_x,train_y)\n",
    "logistic.coef_\n",
    "logistic.intercept_\n",
    "#Prediction from test data\n",
    "prediction=logistic.predict(test_x)\n",
    "print(prediction)\n",
    "#Confusion matrix\n",
    "conf_matrix = confusion_matrix(test_y, prediction)\n",
    "print(conf_matrix)\n",
    "acc_score=accuracy_score(test_y, prediction)\n",
    "print(acc_score)\n",
    "print('Misclassified samples: %d' % (test_y!=prediction).sum())\n",
    "\n",
    "report = classification_report(test_y, prediction)\n",
    "print(report)"
   ]
  },
  {
   "cell_type": "markdown",
   "metadata": {},
   "source": [
    "<font color = green># Tried removing the variables are there is multicolinearity between the predictor variables. After removing the variables 'EnginePerf','TyreWear','OilQual' , Logistic Regression gives the same accuracy with all the variables ie 90%. If we remove the variables 'HVACWear' or 'NormMileage' the accuracy decreases. "
   ]
  },
  {
   "cell_type": "markdown",
   "metadata": {},
   "source": [
    "#<b>Inferences\n",
    "<br>\n",
    "After doing all these methods the accuracy for Logistic Regression didn't improve from 90% and KNN gives 100 % accuracy for smaller k values.Hence we can say that KNN gives the better accuracy for the dataset 'ServiceTest.csv'.<br>That means We can use KNN ( with k values 0 to 15) for this dataset for better prediction ."
   ]
  }
 ],
 "metadata": {
  "kernelspec": {
   "display_name": "Python 3",
   "language": "python",
   "name": "python3"
  },
  "language_info": {
   "codemirror_mode": {
    "name": "ipython",
    "version": 3
   },
   "file_extension": ".py",
   "mimetype": "text/x-python",
   "name": "python",
   "nbconvert_exporter": "python",
   "pygments_lexer": "ipython3",
   "version": "3.7.4"
  }
 },
 "nbformat": 4,
 "nbformat_minor": 2
}
